{
 "cells": [
  {
   "cell_type": "code",
   "execution_count": null,
   "metadata": {},
   "outputs": [],
   "source": [
    "import json\n",
    "import pandas as pd\n",
    "from tqdm import tqdm"
   ]
  },
  {
   "cell_type": "code",
   "execution_count": null,
   "metadata": {},
   "outputs": [],
   "source": [
    "def load_jsonl_data(path):\n",
    "    with open(path, \"r\", encoding=\"utf-8\") as f:\n",
    "        content = f.readlines()\n",
    "        lines = [json.loads(line.strip()) for line in content]\n",
    "    data = pd.DataFrame(lines)\n",
    "\n",
    "    return data"
   ]
  },
  {
   "cell_type": "code",
   "execution_count": null,
   "metadata": {},
   "outputs": [],
   "source": [
    "path = \"/home/tuyendv/E2E-R/data/raw/info_question_type-12_01082022_18092023/metadata.jsonl\"\n",
    "\n",
    "metadata = load_jsonl_data(path)\n",
    "metadata.head(1)"
   ]
  },
  {
   "cell_type": "code",
   "execution_count": null,
   "metadata": {},
   "outputs": [],
   "source": [
    "import re\n",
    "\n",
    "def convert_to_phone_pure(arpas):\n",
    "    phone_pures = []\n",
    "    for phone in arpas:\n",
    "        if phone == \"AX\":\n",
    "            phone_pures.append(\"AH\")\n",
    "        elif phone == \"DX\":\n",
    "            return None\n",
    "        else:\n",
    "            phone_pures.append(re.sub(\"\\d\", \"\", phone))\n",
    "\n",
    "    phone_pures = \" \".join(phone_pures)\n",
    "    return phone_pures.lower()"
   ]
  },
  {
   "cell_type": "code",
   "execution_count": null,
   "metadata": {},
   "outputs": [],
   "source": [
    "metadata = metadata.sample(frac=1)"
   ]
  },
  {
   "cell_type": "code",
   "execution_count": null,
   "metadata": {},
   "outputs": [],
   "source": [
    "metadata[\"word_scores\"] = metadata.apply(lambda row: [row[\"word_scores\"][index] for index in row[\"word_ids\"]], axis=1)"
   ]
  },
  {
   "cell_type": "code",
   "execution_count": null,
   "metadata": {},
   "outputs": [],
   "source": [
    "metadata.head()"
   ]
  },
  {
   "cell_type": "code",
   "execution_count": null,
   "metadata": {},
   "outputs": [],
   "source": [
    "train, test, val = {}, {}, {}\n",
    "\n",
    "count = 0\n",
    "for index in tqdm(metadata.index):\n",
    "    utterance_id = metadata[\"id\"][index]\n",
    "    wav = metadata[\"audio_path\"][index]\n",
    "    utt_score = str(metadata[\"utterance_score\"][index] / 50)\n",
    "    \n",
    "    text = metadata[\"text\"][index].lower()\n",
    "    spk_id = \"\"\n",
    "    phn = convert_to_phone_pure(metadata[\"arpas\"][index])\n",
    "    phn_canonical = convert_to_phone_pure(metadata[\"arpas\"][index])\n",
    "\n",
    "    scores = [str(score/50) for score in metadata[\"phone_scores\"][index]]\n",
    "    wrd_score = [str(score/50) for score in metadata[\"word_scores\"][index]]\n",
    "    wrd_ids = [str(score + 1) for score in metadata[\"word_ids\"][index]]\n",
    "\n",
    "    if len(scores) > 32:\n",
    "        continue\n",
    "    \n",
    "    duration = 0.0\n",
    "    phn_ali = \"\"\n",
    "    phn_ali_start = \"\"\n",
    "    phn_ali_duration = \"\"\n",
    "\n",
    "    if phn is None:\n",
    "        continue\n",
    "\n",
    "    scores = \" \".join(scores)\n",
    "    wrd_score = \" \".join(wrd_score)\n",
    "    wrd_ids= \" \".join(wrd_ids)\n",
    "\n",
    "    sample = {\n",
    "        \"utterance_id\": utterance_id,\n",
    "        \"wav\": wav,\n",
    "        \"text\": text,\n",
    "        \"spk_id\": spk_id,\n",
    "        \"phn\": phn,\n",
    "        \"phn_canonical\": phn_canonical,\n",
    "        \"phn_score\": scores,\n",
    "        \"wrd_score\": wrd_score,\n",
    "        \"utt_score\": utt_score,\n",
    "        \"wrd_id\": wrd_ids,\n",
    "        \"duration\": duration,\n",
    "        \"phn_ali\": phn_ali,\n",
    "        \"phn_ali_start\": phn_ali_start,\n",
    "        \"phn_ali_duration\": phn_ali_duration\n",
    "    }\n",
    "\n",
    "    if count < 50000:\n",
    "        train[utterance_id] = sample\n",
    "    elif count > 115000 and count <= 120000:\n",
    "        test[utterance_id] = sample\n",
    "    elif count > 125000 and count <= 130000:\n",
    "        val[utterance_id] = sample\n",
    "\n",
    "    count += 1"
   ]
  },
  {
   "cell_type": "code",
   "execution_count": null,
   "metadata": {},
   "outputs": [],
   "source": [
    "def save_jsonl_data_row_level(data, path):\n",
    "    with open(path, \"w\", encoding=\"utf-8\") as f:\n",
    "        json_obj = json.dumps(data, indent=4, ensure_ascii=False)\n",
    "\n",
    "        f.write(f'{json_obj}\\n')\n",
    "\n",
    "    print(f'###saved jsonl data to: {path}')\n",
    "\n",
    "out_path = \"/home/tuyendv/E2E-R/data/scoring/train.json\"\n",
    "save_jsonl_data_row_level(data=train, path=out_path)\n",
    "out_path = \"/home/tuyendv/E2E-R/data/scoring/test.json\"\n",
    "save_jsonl_data_row_level(data=test, path=out_path)\n",
    "out_path = \"/home/tuyendv/E2E-R/data/scoring/val.json\"\n",
    "save_jsonl_data_row_level(data=val, path=out_path)"
   ]
  }
 ],
 "metadata": {
  "kernelspec": {
   "display_name": "e2er",
   "language": "python",
   "name": "python3"
  },
  "language_info": {
   "codemirror_mode": {
    "name": "ipython",
    "version": 3
   },
   "file_extension": ".py",
   "mimetype": "text/x-python",
   "name": "python",
   "nbconvert_exporter": "python",
   "pygments_lexer": "ipython3",
   "version": "3.9.18"
  }
 },
 "nbformat": 4,
 "nbformat_minor": 2
}
