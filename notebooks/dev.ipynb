{
 "cells": [
  {
   "cell_type": "code",
   "execution_count": 4,
   "metadata": {},
   "outputs": [
    {
     "name": "stderr",
     "output_type": "stream",
     "text": [
      "/home/tuyendv/miniconda3/envs/e2er/lib/python3.9/site-packages/tqdm/auto.py:21: TqdmWarning: IProgress not found. Please update jupyter and ipywidgets. See https://ipywidgets.readthedocs.io/en/stable/user_install.html\n",
      "  from .autonotebook import tqdm as notebook_tqdm\n",
      "2024-02-06 09:06:30,206\tINFO util.py:154 -- Missing packages: ['ipywidgets']. Run `pip install -U ipywidgets`, then restart the notebook server for rich notebook output.\n"
     ]
    }
   ],
   "source": [
    "from multiprocessing.pool import Pool\n",
    "import numpy as np\n",
    "import requests\n",
    "import librosa\n",
    "import json\n",
    "import ray\n"
   ]
  },
  {
   "cell_type": "code",
   "execution_count": 5,
   "metadata": {},
   "outputs": [],
   "source": [
    "wav_path = \"/data/codes/sb-apa/wav/One of the women is filling plates with cupcakes.wav\"\n",
    "transcript = \"One of the women is filling plates with cupcakes\"\n",
    "\n",
    "waveform, sr = librosa.load(wav_path, sr=16000)\n",
    "\n",
    "params = {\n",
    "    \"audio\": waveform.tolist(),\n",
    "    \"transcript\": transcript\n",
    "}\n"
   ]
  },
  {
   "cell_type": "code",
   "execution_count": 8,
   "metadata": {},
   "outputs": [],
   "source": [
    "inputs = [params.copy() for i in range(500)]\n",
    "\n",
    "@ray.remote\n",
    "def send_query(params):\n",
    "    response = requests.post(\"http://14.162.145.55:8686/scoring\", json=params)\n",
    "    return response\n",
    "\n",
    "outputs = ray.get([send_query.remote(params) for params in inputs])"
   ]
  },
  {
   "cell_type": "code",
   "execution_count": null,
   "metadata": {},
   "outputs": [],
   "source": []
  }
 ],
 "metadata": {
  "kernelspec": {
   "display_name": "ps",
   "language": "python",
   "name": "python3"
  },
  "language_info": {
   "codemirror_mode": {
    "name": "ipython",
    "version": 3
   },
   "file_extension": ".py",
   "mimetype": "text/x-python",
   "name": "python",
   "nbconvert_exporter": "python",
   "pygments_lexer": "ipython3",
   "version": "3.9.18"
  }
 },
 "nbformat": 4,
 "nbformat_minor": 2
}
