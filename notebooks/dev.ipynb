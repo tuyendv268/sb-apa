{
 "cells": [
  {
   "cell_type": "code",
   "execution_count": 10,
   "metadata": {},
   "outputs": [
    {
     "name": "stdout",
     "output_type": "stream",
     "text": [
      "/data/codes/sb-apa\n"
     ]
    }
   ],
   "source": [
    "%cd /data/codes/sb-apa/\n",
    "import pandas as pd\n",
    "from aligner import HMMAligner\n",
    "import torch"
   ]
  },
  {
   "cell_type": "code",
   "execution_count": 11,
   "metadata": {},
   "outputs": [],
   "source": [
    "lexicon_path = \"/data/codes/sb-apa/resources/lexicon\""
   ]
  },
  {
   "cell_type": "code",
   "execution_count": 12,
   "metadata": {},
   "outputs": [],
   "source": [
    "aligner = HMMAligner(\n",
    "    states_per_phoneme=1,\n",
    "    lexicon_path=lexicon_path,\n",
    ")"
   ]
  },
  {
   "cell_type": "code",
   "execution_count": 13,
   "metadata": {},
   "outputs": [],
   "source": [
    "poss_phns, poss_phn_lens, trans_prob, pi_prob, final_states = aligner.use_lexicon(\"HELLO\", interword_sils=True, sample_pron=False)\n",
    "\n",
    "prob_matrices = {\n",
    "    \"trans_prob\": trans_prob,\n",
    "    \"pi_prob\": pi_prob, \n",
    "    \"final_states\": final_states\n",
    "}"
   ]
  },
  {
   "cell_type": "code",
   "execution_count": 14,
   "metadata": {},
   "outputs": [],
   "source": [
    "log_posteriors = torch.randn(\n",
    "    (poss_phns.shape[0], poss_phns.shape[1], 64)\n",
    ")"
   ]
  },
  {
   "cell_type": "code",
   "execution_count": 15,
   "metadata": {},
   "outputs": [],
   "source": [
    "viterbi_scores, alignments, alignments_index = aligner(\n",
    "    log_posteriors, poss_phn_lens, poss_phns, poss_phn_lens, 'viterbi', prob_matrices=prob_matrices)"
   ]
  },
  {
   "cell_type": "code",
   "execution_count": 16,
   "metadata": {},
   "outputs": [
    {
     "data": {
      "text/plain": [
       "tensor([-1.8740,  1.6178, -2.4137, -0.8865, -2.3691])"
      ]
     },
     "execution_count": 16,
     "metadata": {},
     "output_type": "execute_result"
    }
   ],
   "source": [
    "viterbi_scores"
   ]
  },
  {
   "cell_type": "code",
   "execution_count": 18,
   "metadata": {},
   "outputs": [
    {
     "data": {
      "text/plain": [
       "[[1, 2, 2, 2], [1, 2, 2], [1, 2, 3, 3], [0, 1, 2, 3], [0, 0, 1]]"
      ]
     },
     "execution_count": 18,
     "metadata": {},
     "output_type": "execute_result"
    }
   ],
   "source": [
    "alignments_index"
   ]
  }
 ],
 "metadata": {
  "kernelspec": {
   "display_name": "ps",
   "language": "python",
   "name": "python3"
  },
  "language_info": {
   "codemirror_mode": {
    "name": "ipython",
    "version": 3
   },
   "file_extension": ".py",
   "mimetype": "text/x-python",
   "name": "python",
   "nbconvert_exporter": "python",
   "pygments_lexer": "ipython3",
   "version": "3.9.18"
  }
 },
 "nbformat": 4,
 "nbformat_minor": 2
}
