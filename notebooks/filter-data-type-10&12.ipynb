{
 "cells": [
  {
   "cell_type": "code",
   "execution_count": null,
   "metadata": {},
   "outputs": [],
   "source": [
    "import pandas as pd\n",
    "import numpy as np\n",
    "import json\n",
    "import os"
   ]
  },
  {
   "cell_type": "code",
   "execution_count": null,
   "metadata": {},
   "outputs": [],
   "source": [
    "data_dir = \"/data/codes/sb-apa/data/scoring/apa-type-12/\""
   ]
  },
  {
   "cell_type": "code",
   "execution_count": null,
   "metadata": {},
   "outputs": [],
   "source": [
    "path = f\"{data_dir}/train.json\"\n",
    "with open(path, \"r\") as f:\n",
    "    data = json.load(f)"
   ]
  },
  {
   "cell_type": "code",
   "execution_count": null,
   "metadata": {},
   "outputs": [],
   "source": [
    "path = f\"{data_dir}/pred.csv\"\n",
    "df = pd.read_csv(path)\n",
    "df.head(1)"
   ]
  },
  {
   "cell_type": "code",
   "execution_count": null,
   "metadata": {},
   "outputs": [],
   "source": [
    "df[\"pred\"] = df[\"pred\"].apply(lambda row: np.array(list(map(float, row.split()))))\n",
    "df[\"label\"] = df[\"label\"].apply(lambda row: np.array(list(map(float, row.split()))))"
   ]
  },
  {
   "cell_type": "code",
   "execution_count": null,
   "metadata": {},
   "outputs": [],
   "source": [
    "df[\"diff\"] = df[\"label\"] - df[\"pred\"]\n",
    "df[\"diff\"] = df[\"diff\"].apply(lambda row: np.abs(row))\n",
    "\n",
    "df.head(1)"
   ]
  },
  {
   "cell_type": "code",
   "execution_count": null,
   "metadata": {},
   "outputs": [],
   "source": [
    "threshold = 2 * 30/100\n",
    "\n",
    "df[\"valid\"] = df[\"diff\"].apply(lambda row: row[row<threshold].shape[0])\n",
    "df[\"total\"] = df[\"diff\"].apply(lambda row: row.shape[0])\n",
    "df[\"percent\"] = df[\"valid\"] / df[\"total\"]\n",
    "df[\"invalid\"] = df[\"diff\"].apply(lambda row: row[row>threshold].shape[0])"
   ]
  },
  {
   "cell_type": "code",
   "execution_count": null,
   "metadata": {},
   "outputs": [],
   "source": [
    "print(df.shape)\n",
    "df = df[(df.invalid < 2)|(df.percent > 0.9)]\n",
    "print(df.shape)"
   ]
  },
  {
   "cell_type": "code",
   "execution_count": null,
   "metadata": {},
   "outputs": [],
   "source": [
    "filtered_data = {}\n",
    "for index in df.index:\n",
    "    _id = str(df[\"id\"][index])\n",
    "    filtered_data[_id] = data[_id]\n",
    "    "
   ]
  },
  {
   "cell_type": "code",
   "execution_count": null,
   "metadata": {},
   "outputs": [],
   "source": [
    "path = f\"{data_dir}/filtered-data.json\"\n",
    "with open(path, \"w\") as f:\n",
    "    json_obj = json.dumps(filtered_data, indent=4, ensure_ascii=False)\n",
    "    f.write(json_obj)"
   ]
  }
 ],
 "metadata": {
  "kernelspec": {
   "display_name": "ps",
   "language": "python",
   "name": "python3"
  },
  "language_info": {
   "codemirror_mode": {
    "name": "ipython",
    "version": 3
   },
   "file_extension": ".py",
   "mimetype": "text/x-python",
   "name": "python",
   "nbconvert_exporter": "python",
   "pygments_lexer": "ipython3",
   "version": "3.8.17"
  }
 },
 "nbformat": 4,
 "nbformat_minor": 2
}
