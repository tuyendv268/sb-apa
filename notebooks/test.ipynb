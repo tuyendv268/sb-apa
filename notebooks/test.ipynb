{
 "cells": [
  {
   "cell_type": "code",
   "execution_count": null,
   "metadata": {},
   "outputs": [],
   "source": [
    "from multiprocessing.pool import Pool\n",
    "import numpy as np\n",
    "import requests\n",
    "import librosa\n",
    "import json\n",
    "import ray\n"
   ]
  },
  {
   "cell_type": "code",
   "execution_count": null,
   "metadata": {},
   "outputs": [],
   "source": [
    "wav_path = \"/data/codes/sb-apa/wav/One of the women is filling plates with cupcakes.wav\"\n",
    "transcript = \"One of the women is filling plates with cupcakes\"\n",
    "\n",
    "waveform, sr = librosa.load(wav_path, sr=16000)\n",
    "\n",
    "params = {\n",
    "    \"audio\": waveform.tolist(),\n",
    "    \"transcript\": transcript\n",
    "}\n"
   ]
  },
  {
   "cell_type": "code",
   "execution_count": null,
   "metadata": {},
   "outputs": [],
   "source": [
    "inputs = [params.copy() for i in range(500)]\n",
    "\n",
    "@ray.remote\n",
    "def send_query(params):\n",
    "    response = requests.post(\"http://14.162.145.55:8686/scoring\", json=params)\n",
    "    return response\n",
    "\n",
    "outputs = ray.get([send_query.remote(params) for params in inputs])"
   ]
  },
  {
   "cell_type": "code",
   "execution_count": null,
   "metadata": {},
   "outputs": [],
   "source": [
    "import json\n",
    "\n",
    "json_path = [\n",
    "    \"/data/codes/sb-apa/data/scoring/apa-type-9/filtered-data.json\",\n",
    "    \"/data/codes/sb-apa/data/scoring/apa-type-10/filtered-data.json\",\n",
    "    \"/data/codes/sb-apa/data/scoring/apa-type-12/filtered-data.json\"\n",
    "]\n",
    "\n",
    "data = {}\n",
    "for path in json_path:\n",
    "    _data = json.load(open(path, \"r\"))\n",
    "    for key, value in _data.items():\n",
    "        assert key not in data\n",
    "        \n",
    "    data.update(_data)\n",
    "print(len(data))"
   ]
  },
  {
   "cell_type": "code",
   "execution_count": null,
   "metadata": {},
   "outputs": [],
   "source": [
    "from sklearn.model_selection import train_test_split\n",
    "\n",
    "keys = list(data.keys())"
   ]
  },
  {
   "cell_type": "code",
   "execution_count": null,
   "metadata": {},
   "outputs": [],
   "source": [
    "train_keys, val_keys = train_test_split(keys, test_size=0.05, random_state=42)\n",
    "\n",
    "train_set = {key:data[key] for key in train_keys}\n",
    "val_set = {key:data[key] for key in val_keys}"
   ]
  },
  {
   "cell_type": "code",
   "execution_count": null,
   "metadata": {},
   "outputs": [],
   "source": [
    "len(val_set)"
   ]
  },
  {
   "cell_type": "code",
   "execution_count": null,
   "metadata": {},
   "outputs": [],
   "source": [
    "data_dir = \"/data/codes/sb-apa/data/scoring\"\n",
    "\n",
    "with open(f'{data_dir}/train.json', 'w', encoding='utf-8') as f:\n",
    "    json_obj = json.dumps(train_set, indent=4, ensure_ascii=False)\n",
    "    f.write(json_obj)\n",
    "    \n",
    "with open(f'{data_dir}/val.json', 'w', encoding='utf-8') as f:\n",
    "    json_obj = json.dumps(val_set, indent=4, ensure_ascii=False)\n",
    "    f.write(json_obj)"
   ]
  }
 ],
 "metadata": {
  "kernelspec": {
   "display_name": "ps",
   "language": "python",
   "name": "python3"
  },
  "language_info": {
   "codemirror_mode": {
    "name": "ipython",
    "version": 3
   },
   "file_extension": ".py",
   "mimetype": "text/x-python",
   "name": "python",
   "nbconvert_exporter": "python",
   "pygments_lexer": "ipython3",
   "version": "3.8.17"
  }
 },
 "nbformat": 4,
 "nbformat_minor": 2
}
