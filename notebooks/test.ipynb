{
 "cells": [
  {
   "cell_type": "code",
   "execution_count": null,
   "metadata": {},
   "outputs": [],
   "source": [
    "import requests\n",
    "\n",
    "url = 'http://192.168.100.222:8888/infer'\n",
    "\n",
    "wav_file_path = '/home/tuyendv/E2E-R/wav/classical.wav'\n",
    "\n",
    "# Gửi request POST đến API\n",
    "files = {'file': open(wav_file_path, 'rb')}\n",
    "data = {'transcript': 'classical'}\n",
    "response = requests.post(url, files=files, data=data)\n"
   ]
  }
 ],
 "metadata": {
  "kernelspec": {
   "display_name": "nlp",
   "language": "python",
   "name": "python3"
  },
  "language_info": {
   "codemirror_mode": {
    "name": "ipython",
    "version": 3
   },
   "file_extension": ".py",
   "mimetype": "text/x-python",
   "name": "python",
   "nbconvert_exporter": "python",
   "pygments_lexer": "ipython3",
   "version": "3.9.18"
  }
 },
 "nbformat": 4,
 "nbformat_minor": 2
}
