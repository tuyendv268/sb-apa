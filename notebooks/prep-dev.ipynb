{
 "cells": [
  {
   "cell_type": "code",
   "execution_count": 18,
   "metadata": {},
   "outputs": [],
   "source": [
    "import json\n",
    "import pandas as pd\n",
    "from tqdm import tqdm"
   ]
  },
  {
   "cell_type": "code",
   "execution_count": 19,
   "metadata": {},
   "outputs": [],
   "source": [
    "def load_jsonl_data(path):\n",
    "    with open(path, \"r\", encoding=\"utf-8\") as f:\n",
    "        content = f.readlines()\n",
    "        lines = [json.loads(line.strip()) for line in content]\n",
    "    data = pd.DataFrame(lines)\n",
    "\n",
    "    return data"
   ]
  },
  {
   "cell_type": "code",
   "execution_count": 20,
   "metadata": {},
   "outputs": [
    {
     "data": {
      "text/html": [
       "<div>\n",
       "<style scoped>\n",
       "    .dataframe tbody tr th:only-of-type {\n",
       "        vertical-align: middle;\n",
       "    }\n",
       "\n",
       "    .dataframe tbody tr th {\n",
       "        vertical-align: top;\n",
       "    }\n",
       "\n",
       "    .dataframe thead th {\n",
       "        text-align: right;\n",
       "    }\n",
       "</style>\n",
       "<table border=\"1\" class=\"dataframe\">\n",
       "  <thead>\n",
       "    <tr style=\"text-align: right;\">\n",
       "      <th></th>\n",
       "      <th>id</th>\n",
       "      <th>raw_text</th>\n",
       "      <th>text</th>\n",
       "      <th>utt_id</th>\n",
       "      <th>start_time</th>\n",
       "      <th>end_time</th>\n",
       "      <th>arpas</th>\n",
       "      <th>trans</th>\n",
       "      <th>phone_scores</th>\n",
       "      <th>word_scores</th>\n",
       "      <th>decisions</th>\n",
       "      <th>word_ids</th>\n",
       "      <th>utterance_score</th>\n",
       "      <th>intonation_score</th>\n",
       "      <th>fluency_score</th>\n",
       "      <th>audio_path</th>\n",
       "    </tr>\n",
       "  </thead>\n",
       "  <tbody>\n",
       "    <tr>\n",
       "      <th>0</th>\n",
       "      <td>2653235</td>\n",
       "      <td>sweaty</td>\n",
       "      <td>SWEATY</td>\n",
       "      <td>None</td>\n",
       "      <td>None</td>\n",
       "      <td>None</td>\n",
       "      <td>[S, W, EH1, T, IY0]</td>\n",
       "      <td>[S, W, EH, T, IY]</td>\n",
       "      <td>[98, 98, 0, 99, 96]</td>\n",
       "      <td>[69]</td>\n",
       "      <td>[2, 2, 0, 2, 2]</td>\n",
       "      <td>[0, 0, 0, 0, 0]</td>\n",
       "      <td>69.0</td>\n",
       "      <td>0</td>\n",
       "      <td>0</td>\n",
       "      <td>/data/audio/prep-submission-audio/apa-type-10/...</td>\n",
       "    </tr>\n",
       "  </tbody>\n",
       "</table>\n",
       "</div>"
      ],
      "text/plain": [
       "        id raw_text    text utt_id start_time end_time                arpas  \\\n",
       "0  2653235   sweaty  SWEATY   None       None     None  [S, W, EH1, T, IY0]   \n",
       "\n",
       "               trans         phone_scores word_scores        decisions  \\\n",
       "0  [S, W, EH, T, IY]  [98, 98, 0, 99, 96]        [69]  [2, 2, 0, 2, 2]   \n",
       "\n",
       "          word_ids  utterance_score  intonation_score  fluency_score  \\\n",
       "0  [0, 0, 0, 0, 0]             69.0                 0              0   \n",
       "\n",
       "                                          audio_path  \n",
       "0  /data/audio/prep-submission-audio/apa-type-10/...  "
      ]
     },
     "execution_count": 20,
     "metadata": {},
     "output_type": "execute_result"
    }
   ],
   "source": [
    "path = \"/home/tuyendv/E2E-R/data/apr/train-type-12/metadata-raw.jsonl\"\n",
    "\n",
    "metadata = load_jsonl_data(path)\n",
    "metadata.head(1)"
   ]
  },
  {
   "cell_type": "code",
   "execution_count": 21,
   "metadata": {},
   "outputs": [],
   "source": [
    "import re\n",
    "\n",
    "def convert_to_phone_pure(arpas):\n",
    "    phone_pures = []\n",
    "    for phone in arpas:\n",
    "        if phone == \"AX\":\n",
    "            phone_pures.append(\"AH\")\n",
    "        elif phone == \"DX\":\n",
    "            return None\n",
    "        else:\n",
    "            phone_pures.append(re.sub(\"\\d\", \"\", phone))\n",
    "\n",
    "    phone_pures = \" \".join(phone_pures)\n",
    "    return phone_pures.lower()"
   ]
  },
  {
   "cell_type": "code",
   "execution_count": 22,
   "metadata": {},
   "outputs": [],
   "source": [
    "metadata = metadata.sample(frac=1)"
   ]
  },
  {
   "cell_type": "code",
   "execution_count": 23,
   "metadata": {},
   "outputs": [
    {
     "name": "stderr",
     "output_type": "stream",
     "text": [
      "100%|██████████| 76312/76312 [00:02<00:00, 29807.23it/s]\n"
     ]
    }
   ],
   "source": [
    "train, test, val = {}, {}, {}\n",
    "\n",
    "count = 0\n",
    "for index in tqdm(metadata.index):\n",
    "    utterance_id = metadata[\"id\"][index]\n",
    "    wav = metadata[\"audio_path\"][index]\n",
    "    text = metadata[\"text\"][index].lower()\n",
    "    spk_id = \"\"\n",
    "    phn = convert_to_phone_pure(metadata[\"arpas\"][index])\n",
    "    phn_canonical = convert_to_phone_pure(metadata[\"arpas\"][index])\n",
    "    scores = [str(score/50) for score in metadata[\"phone_scores\"][index]]\n",
    "\n",
    "    if len(scores) > 32:\n",
    "        continue\n",
    "    \n",
    "    duration = 0.0\n",
    "    phn_ali = \"\"\n",
    "    phn_ali_start = \"\"\n",
    "    phn_ali_duration = \"\"\n",
    "\n",
    "    if phn is None:\n",
    "        continue\n",
    "\n",
    "    scores = \" \".join(scores)\n",
    "\n",
    "    sample = {\n",
    "        \"utterance_id\": utterance_id,\n",
    "        \"wav\": wav,\n",
    "        \"text\": text,\n",
    "        \"spk_id\": spk_id,\n",
    "        \"phn\": phn,\n",
    "        \"phn_canonical\": phn_canonical,\n",
    "        \"scores\": scores,\n",
    "        \"duration\": duration,\n",
    "        \"phn_ali\": phn_ali,\n",
    "        \"phn_ali_start\": phn_ali_start,\n",
    "        \"phn_ali_duration\": phn_ali_duration\n",
    "    }\n",
    "\n",
    "    if count < 60000:\n",
    "        train[utterance_id] = sample\n",
    "    elif count > 60000 and count <= 70000:\n",
    "        test[utterance_id] = sample\n",
    "    elif count > 70000 and count <= 75000:\n",
    "        val[utterance_id] = sample\n",
    "\n",
    "    count += 1"
   ]
  },
  {
   "cell_type": "code",
   "execution_count": 24,
   "metadata": {},
   "outputs": [
    {
     "name": "stdout",
     "output_type": "stream",
     "text": [
      "###saved jsonl data to: /home/tuyendv/E2E-R/data/prep/train.json\n",
      "###saved jsonl data to: /home/tuyendv/E2E-R/data/prep/test.json\n",
      "###saved jsonl data to: /home/tuyendv/E2E-R/data/prep/val.json\n"
     ]
    }
   ],
   "source": [
    "def save_jsonl_data_row_level(data, path):\n",
    "    with open(path, \"w\", encoding=\"utf-8\") as f:\n",
    "        json_obj = json.dumps(data, indent=4, ensure_ascii=False)\n",
    "\n",
    "        f.write(f'{json_obj}\\n')\n",
    "\n",
    "    print(f'###saved jsonl data to: {path}')\n",
    "\n",
    "out_path = \"/home/tuyendv/E2E-R/data/prep/train.json\"\n",
    "save_jsonl_data_row_level(data=train, path=out_path)\n",
    "out_path = \"/home/tuyendv/E2E-R/data/prep/test.json\"\n",
    "save_jsonl_data_row_level(data=test, path=out_path)\n",
    "out_path = \"/home/tuyendv/E2E-R/data/prep/val.json\"\n",
    "save_jsonl_data_row_level(data=val, path=out_path)"
   ]
  },
  {
   "cell_type": "code",
   "execution_count": null,
   "metadata": {},
   "outputs": [],
   "source": []
  }
 ],
 "metadata": {
  "kernelspec": {
   "display_name": "e2er",
   "language": "python",
   "name": "python3"
  },
  "language_info": {
   "codemirror_mode": {
    "name": "ipython",
    "version": 3
   },
   "file_extension": ".py",
   "mimetype": "text/x-python",
   "name": "python",
   "nbconvert_exporter": "python",
   "pygments_lexer": "ipython3",
   "version": "3.9.18"
  }
 },
 "nbformat": 4,
 "nbformat_minor": 2
}
