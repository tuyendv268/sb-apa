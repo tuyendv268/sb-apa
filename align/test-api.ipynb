{
 "cells": [
  {
   "cell_type": "code",
   "execution_count": 1,
   "metadata": {},
   "outputs": [],
   "source": [
    "import requests\n",
    "import librosa\n",
    "import json\n",
    "import ray"
   ]
  },
  {
   "cell_type": "code",
   "execution_count": 5,
   "metadata": {},
   "outputs": [],
   "source": [
    "wav_path = \"/data/codes/apa/wav/And the card is a fifteen dollar for Angel, and eight dollar for children from twelve, and unders..wav\"\n",
    "transcript = \"And the card is a fifteen dollar for Angel\".upper()\n",
    "\n",
    "waveform, sr = librosa.load(wav_path, sr=16000)\n",
    "\n",
    "params = {\n",
    "    \"audio\": waveform.tolist(),\n",
    "    \"transcript\": transcript\n",
    "}"
   ]
  },
  {
   "cell_type": "code",
   "execution_count": 6,
   "metadata": {},
   "outputs": [
    {
     "data": {
      "text/plain": [
       "[{'id': 'audio-0',\n",
       "  'transcript': 'AND THE CARD IS A FIFTEEN DOLLAR FOR ANGEL',\n",
       "  'wav_path': 'tmp/data//142194/wav/audio-0.wav',\n",
       "  'alignment': [['SIL', 0, 125],\n",
       "   ['AE2_B', 125, 23],\n",
       "   ['N_I', 148, 22],\n",
       "   ['D_E', 170, 1],\n",
       "   ['SIL', 171, 3],\n",
       "   ['DH_B', 174, 8],\n",
       "   ['AX_E', 182, 8],\n",
       "   ['SIL', 190, 1],\n",
       "   ['K_B', 191, 13],\n",
       "   ['AA1_I', 204, 13],\n",
       "   ['R_I', 217, 8],\n",
       "   ['D_E', 225, 20],\n",
       "   ['SIL', 245, 8],\n",
       "   ['IH1_B', 253, 20],\n",
       "   ['Z_E', 273, 14],\n",
       "   ['SIL', 287, 1],\n",
       "   ['AX_S', 288, 23],\n",
       "   ['SIL', 311, 58],\n",
       "   ['F_B', 369, 11],\n",
       "   ['IH2_I', 380, 11],\n",
       "   ['F_I', 391, 9],\n",
       "   ['T_I', 400, 13],\n",
       "   ['IY1_I', 413, 15],\n",
       "   ['N_E', 428, 18],\n",
       "   ['D_B', 446, 12],\n",
       "   ['AA1_I', 458, 12],\n",
       "   ['L_I', 470, 9],\n",
       "   ['ER0_E', 479, 15],\n",
       "   ['SIL', 494, 3],\n",
       "   ['F_B', 497, 10],\n",
       "   ['AO1_I', 507, 16],\n",
       "   ['R_E', 523, 70],\n",
       "   ['SIL', 593, 40],\n",
       "   ['EY1_B', 633, 63],\n",
       "   ['N_I', 696, 10],\n",
       "   ['JH_I', 706, 24],\n",
       "   ['AX_I', 730, 99],\n",
       "   ['L_E', 829, 18],\n",
       "   ['SIL', 847, 380]]}]"
      ]
     },
     "execution_count": 6,
     "metadata": {},
     "output_type": "execute_result"
    }
   ],
   "source": [
    "inputs = [params.copy() for i in range(1)]\n",
    "\n",
    "@ray.remote\n",
    "def send_query(params):\n",
    "    response = requests.post(\"http://14.162.145.55:9999/\", json=params)\n",
    "    return response\n",
    "\n",
    "outputs = ray.get([send_query.remote(params) for params in inputs])\n",
    "outputs = [json.loads(output.content) for output in outputs]\n",
    "outputs"
   ]
  }
 ],
 "metadata": {
  "kernelspec": {
   "display_name": "ps",
   "language": "python",
   "name": "python3"
  },
  "language_info": {
   "codemirror_mode": {
    "name": "ipython",
    "version": 3
   },
   "file_extension": ".py",
   "mimetype": "text/x-python",
   "name": "python",
   "nbconvert_exporter": "python",
   "pygments_lexer": "ipython3",
   "version": "3.8.17"
  }
 },
 "nbformat": 4,
 "nbformat_minor": 2
}
