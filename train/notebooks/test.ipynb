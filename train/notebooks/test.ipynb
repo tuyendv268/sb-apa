{
 "cells": [
  {
   "cell_type": "code",
   "execution_count": 1,
   "metadata": {},
   "outputs": [
    {
     "name": "stderr",
     "output_type": "stream",
     "text": [
      "/home/tuyendv/miniconda3/envs/e2er/lib/python3.9/site-packages/tqdm/auto.py:21: TqdmWarning: IProgress not found. Please update jupyter and ipywidgets. See https://ipywidgets.readthedocs.io/en/stable/user_install.html\n",
      "  from .autonotebook import tqdm as notebook_tqdm\n",
      "2024-02-21 16:46:57,884\tINFO util.py:154 -- Missing packages: ['ipywidgets']. Run `pip install -U ipywidgets`, then restart the notebook server for rich notebook output.\n"
     ]
    }
   ],
   "source": [
    "from multiprocessing.pool import Pool\n",
    "import numpy as np\n",
    "import requests\n",
    "import librosa\n",
    "import json\n",
    "import ray\n"
   ]
  },
  {
   "cell_type": "code",
   "execution_count": 2,
   "metadata": {},
   "outputs": [],
   "source": [
    "wav_path = \"/data/codes/sb-apa/train/wav/chronic.wav\"\n",
    "transcript = \"chronic\"\n",
    "\n",
    "waveform, sr = librosa.load(wav_path, sr=16000)\n",
    "\n",
    "params = {\n",
    "    \"audio\": waveform.tolist(),\n",
    "    \"transcript\": transcript\n",
    "}\n"
   ]
  },
  {
   "cell_type": "code",
   "execution_count": 3,
   "metadata": {},
   "outputs": [
    {
     "ename": "FileNotFoundError",
     "evalue": "[Errno 2] No such file or directory: '/proc/4092506/stat'",
     "output_type": "error",
     "traceback": [
      "\u001b[0;31m---------------------------------------------------------------------------\u001b[0m",
      "\u001b[0;31mAttributeError\u001b[0m                            Traceback (most recent call last)",
      "File \u001b[0;32m~/miniconda3/envs/e2er/lib/python3.9/site-packages/psutil/_common.py:441\u001b[0m, in \u001b[0;36mmemoize_when_activated.<locals>.wrapper\u001b[0;34m(self)\u001b[0m\n\u001b[1;32m    439\u001b[0m \u001b[38;5;28;01mtry\u001b[39;00m:\n\u001b[1;32m    440\u001b[0m     \u001b[38;5;66;03m# case 1: we previously entered oneshot() ctx\u001b[39;00m\n\u001b[0;32m--> 441\u001b[0m     ret \u001b[38;5;241m=\u001b[39m \u001b[38;5;28;43mself\u001b[39;49m\u001b[38;5;241;43m.\u001b[39;49m\u001b[43m_cache\u001b[49m[fun]\n\u001b[1;32m    442\u001b[0m \u001b[38;5;28;01mexcept\u001b[39;00m \u001b[38;5;167;01mAttributeError\u001b[39;00m:\n\u001b[1;32m    443\u001b[0m     \u001b[38;5;66;03m# case 2: we never entered oneshot() ctx\u001b[39;00m\n",
      "\u001b[0;31mAttributeError\u001b[0m: _cache",
      "\nDuring handling of the above exception, another exception occurred:\n",
      "\u001b[0;31mFileNotFoundError\u001b[0m                         Traceback (most recent call last)",
      "Cell \u001b[0;32mIn[3], line 8\u001b[0m\n\u001b[1;32m      5\u001b[0m     response \u001b[38;5;241m=\u001b[39m requests\u001b[38;5;241m.\u001b[39mpost(\u001b[38;5;124m\"\u001b[39m\u001b[38;5;124mhttp://14.162.145.55:9999/scoring\u001b[39m\u001b[38;5;124m\"\u001b[39m, json\u001b[38;5;241m=\u001b[39mparams)\n\u001b[1;32m      6\u001b[0m     \u001b[38;5;28;01mreturn\u001b[39;00m response\n\u001b[0;32m----> 8\u001b[0m outputs \u001b[38;5;241m=\u001b[39m ray\u001b[38;5;241m.\u001b[39mget([send_query\u001b[38;5;241m.\u001b[39mremote(params) \u001b[38;5;28;01mfor\u001b[39;00m params \u001b[38;5;129;01min\u001b[39;00m inputs])\n",
      "Cell \u001b[0;32mIn[3], line 8\u001b[0m, in \u001b[0;36m<listcomp>\u001b[0;34m(.0)\u001b[0m\n\u001b[1;32m      5\u001b[0m     response \u001b[38;5;241m=\u001b[39m requests\u001b[38;5;241m.\u001b[39mpost(\u001b[38;5;124m\"\u001b[39m\u001b[38;5;124mhttp://14.162.145.55:9999/scoring\u001b[39m\u001b[38;5;124m\"\u001b[39m, json\u001b[38;5;241m=\u001b[39mparams)\n\u001b[1;32m      6\u001b[0m     \u001b[38;5;28;01mreturn\u001b[39;00m response\n\u001b[0;32m----> 8\u001b[0m outputs \u001b[38;5;241m=\u001b[39m ray\u001b[38;5;241m.\u001b[39mget([\u001b[43msend_query\u001b[49m\u001b[38;5;241;43m.\u001b[39;49m\u001b[43mremote\u001b[49m\u001b[43m(\u001b[49m\u001b[43mparams\u001b[49m\u001b[43m)\u001b[49m \u001b[38;5;28;01mfor\u001b[39;00m params \u001b[38;5;129;01min\u001b[39;00m inputs])\n",
      "File \u001b[0;32m~/miniconda3/envs/e2er/lib/python3.9/site-packages/ray/remote_function.py:139\u001b[0m, in \u001b[0;36mRemoteFunction.__init__.<locals>._remote_proxy\u001b[0;34m(*args, **kwargs)\u001b[0m\n\u001b[1;32m    137\u001b[0m \u001b[38;5;129m@wraps\u001b[39m(function)\n\u001b[1;32m    138\u001b[0m \u001b[38;5;28;01mdef\u001b[39;00m \u001b[38;5;21m_remote_proxy\u001b[39m(\u001b[38;5;241m*\u001b[39margs, \u001b[38;5;241m*\u001b[39m\u001b[38;5;241m*\u001b[39mkwargs):\n\u001b[0;32m--> 139\u001b[0m     \u001b[38;5;28;01mreturn\u001b[39;00m \u001b[38;5;28;43mself\u001b[39;49m\u001b[38;5;241;43m.\u001b[39;49m\u001b[43m_remote\u001b[49m\u001b[43m(\u001b[49m\u001b[43margs\u001b[49m\u001b[38;5;241;43m=\u001b[39;49m\u001b[43margs\u001b[49m\u001b[43m,\u001b[49m\u001b[43m \u001b[49m\u001b[43mkwargs\u001b[49m\u001b[38;5;241;43m=\u001b[39;49m\u001b[43mkwargs\u001b[49m\u001b[43m,\u001b[49m\u001b[43m \u001b[49m\u001b[38;5;241;43m*\u001b[39;49m\u001b[38;5;241;43m*\u001b[39;49m\u001b[38;5;28;43mself\u001b[39;49m\u001b[38;5;241;43m.\u001b[39;49m\u001b[43m_default_options\u001b[49m\u001b[43m)\u001b[49m\n",
      "File \u001b[0;32m~/miniconda3/envs/e2er/lib/python3.9/site-packages/ray/_private/auto_init_hook.py:21\u001b[0m, in \u001b[0;36mwrap_auto_init.<locals>.auto_init_wrapper\u001b[0;34m(*args, **kwargs)\u001b[0m\n\u001b[1;32m     19\u001b[0m \u001b[38;5;129m@wraps\u001b[39m(fn)\n\u001b[1;32m     20\u001b[0m \u001b[38;5;28;01mdef\u001b[39;00m \u001b[38;5;21mauto_init_wrapper\u001b[39m(\u001b[38;5;241m*\u001b[39margs, \u001b[38;5;241m*\u001b[39m\u001b[38;5;241m*\u001b[39mkwargs):\n\u001b[0;32m---> 21\u001b[0m     \u001b[43mauto_init_ray\u001b[49m\u001b[43m(\u001b[49m\u001b[43m)\u001b[49m\n\u001b[1;32m     22\u001b[0m     \u001b[38;5;28;01mreturn\u001b[39;00m fn(\u001b[38;5;241m*\u001b[39margs, \u001b[38;5;241m*\u001b[39m\u001b[38;5;241m*\u001b[39mkwargs)\n",
      "File \u001b[0;32m~/miniconda3/envs/e2er/lib/python3.9/site-packages/ray/_private/auto_init_hook.py:14\u001b[0m, in \u001b[0;36mauto_init_ray\u001b[0;34m()\u001b[0m\n\u001b[1;32m     12\u001b[0m auto_init_lock\u001b[38;5;241m.\u001b[39macquire()\n\u001b[1;32m     13\u001b[0m \u001b[38;5;28;01mif\u001b[39;00m \u001b[38;5;129;01mnot\u001b[39;00m ray\u001b[38;5;241m.\u001b[39mis_initialized():\n\u001b[0;32m---> 14\u001b[0m     \u001b[43mray\u001b[49m\u001b[38;5;241;43m.\u001b[39;49m\u001b[43minit\u001b[49m\u001b[43m(\u001b[49m\u001b[43m)\u001b[49m\n\u001b[1;32m     15\u001b[0m auto_init_lock\u001b[38;5;241m.\u001b[39mrelease()\n",
      "File \u001b[0;32m~/miniconda3/envs/e2er/lib/python3.9/site-packages/ray/_private/client_mode_hook.py:103\u001b[0m, in \u001b[0;36mclient_mode_hook.<locals>.wrapper\u001b[0;34m(*args, **kwargs)\u001b[0m\n\u001b[1;32m    101\u001b[0m     \u001b[38;5;28;01mif\u001b[39;00m func\u001b[38;5;241m.\u001b[39m\u001b[38;5;18m__name__\u001b[39m \u001b[38;5;241m!=\u001b[39m \u001b[38;5;124m\"\u001b[39m\u001b[38;5;124minit\u001b[39m\u001b[38;5;124m\"\u001b[39m \u001b[38;5;129;01mor\u001b[39;00m is_client_mode_enabled_by_default:\n\u001b[1;32m    102\u001b[0m         \u001b[38;5;28;01mreturn\u001b[39;00m \u001b[38;5;28mgetattr\u001b[39m(ray, func\u001b[38;5;241m.\u001b[39m\u001b[38;5;18m__name__\u001b[39m)(\u001b[38;5;241m*\u001b[39margs, \u001b[38;5;241m*\u001b[39m\u001b[38;5;241m*\u001b[39mkwargs)\n\u001b[0;32m--> 103\u001b[0m \u001b[38;5;28;01mreturn\u001b[39;00m \u001b[43mfunc\u001b[49m\u001b[43m(\u001b[49m\u001b[38;5;241;43m*\u001b[39;49m\u001b[43margs\u001b[49m\u001b[43m,\u001b[49m\u001b[43m \u001b[49m\u001b[38;5;241;43m*\u001b[39;49m\u001b[38;5;241;43m*\u001b[39;49m\u001b[43mkwargs\u001b[49m\u001b[43m)\u001b[49m\n",
      "File \u001b[0;32m~/miniconda3/envs/e2er/lib/python3.9/site-packages/ray/_private/worker.py:1537\u001b[0m, in \u001b[0;36minit\u001b[0;34m(address, num_cpus, num_gpus, resources, labels, object_store_memory, local_mode, ignore_reinit_error, include_dashboard, dashboard_host, dashboard_port, job_config, configure_logging, logging_level, logging_format, log_to_driver, namespace, runtime_env, storage, **kwargs)\u001b[0m\n\u001b[1;32m   1534\u001b[0m         job_config\u001b[38;5;241m.\u001b[39mset_runtime_env(runtime_env)\n\u001b[1;32m   1536\u001b[0m redis_address, gcs_address \u001b[38;5;241m=\u001b[39m \u001b[38;5;28;01mNone\u001b[39;00m, \u001b[38;5;28;01mNone\u001b[39;00m\n\u001b[0;32m-> 1537\u001b[0m bootstrap_address \u001b[38;5;241m=\u001b[39m \u001b[43mservices\u001b[49m\u001b[38;5;241;43m.\u001b[39;49m\u001b[43mcanonicalize_bootstrap_address\u001b[49m\u001b[43m(\u001b[49m\u001b[43maddress\u001b[49m\u001b[43m,\u001b[49m\u001b[43m \u001b[49m\u001b[43m_temp_dir\u001b[49m\u001b[43m)\u001b[49m\n\u001b[1;32m   1538\u001b[0m \u001b[38;5;28;01mif\u001b[39;00m bootstrap_address \u001b[38;5;129;01mis\u001b[39;00m \u001b[38;5;129;01mnot\u001b[39;00m \u001b[38;5;28;01mNone\u001b[39;00m:\n\u001b[1;32m   1539\u001b[0m     gcs_address \u001b[38;5;241m=\u001b[39m bootstrap_address\n",
      "File \u001b[0;32m~/miniconda3/envs/e2er/lib/python3.9/site-packages/ray/_private/services.py:530\u001b[0m, in \u001b[0;36mcanonicalize_bootstrap_address\u001b[0;34m(addr, temp_dir)\u001b[0m\n\u001b[1;32m    519\u001b[0m \u001b[38;5;250m\u001b[39m\u001b[38;5;124;03m\"\"\"Canonicalizes Ray cluster bootstrap address to host:port.\u001b[39;00m\n\u001b[1;32m    520\u001b[0m \u001b[38;5;124;03mReads address from the environment if needed.\u001b[39;00m\n\u001b[1;32m    521\u001b[0m \n\u001b[0;32m   (...)\u001b[0m\n\u001b[1;32m    527\u001b[0m \u001b[38;5;124;03m    should start a local Ray instance.\u001b[39;00m\n\u001b[1;32m    528\u001b[0m \u001b[38;5;124;03m\"\"\"\u001b[39;00m\n\u001b[1;32m    529\u001b[0m \u001b[38;5;28;01mif\u001b[39;00m addr \u001b[38;5;129;01mis\u001b[39;00m \u001b[38;5;28;01mNone\u001b[39;00m \u001b[38;5;129;01mor\u001b[39;00m addr \u001b[38;5;241m==\u001b[39m \u001b[38;5;124m\"\u001b[39m\u001b[38;5;124mauto\u001b[39m\u001b[38;5;124m\"\u001b[39m:\n\u001b[0;32m--> 530\u001b[0m     addr \u001b[38;5;241m=\u001b[39m \u001b[43mget_ray_address_from_environment\u001b[49m\u001b[43m(\u001b[49m\u001b[43maddr\u001b[49m\u001b[43m,\u001b[49m\u001b[43m \u001b[49m\u001b[43mtemp_dir\u001b[49m\u001b[43m)\u001b[49m\n\u001b[1;32m    531\u001b[0m \u001b[38;5;28;01mif\u001b[39;00m addr \u001b[38;5;129;01mis\u001b[39;00m \u001b[38;5;28;01mNone\u001b[39;00m \u001b[38;5;129;01mor\u001b[39;00m addr \u001b[38;5;241m==\u001b[39m \u001b[38;5;124m\"\u001b[39m\u001b[38;5;124mlocal\u001b[39m\u001b[38;5;124m\"\u001b[39m:\n\u001b[1;32m    532\u001b[0m     \u001b[38;5;28;01mreturn\u001b[39;00m \u001b[38;5;28;01mNone\u001b[39;00m\n",
      "File \u001b[0;32m~/miniconda3/envs/e2er/lib/python3.9/site-packages/ray/_private/services.py:403\u001b[0m, in \u001b[0;36mget_ray_address_from_environment\u001b[0;34m(addr, temp_dir)\u001b[0m\n\u001b[1;32m    401\u001b[0m     \u001b[38;5;28;01mreturn\u001b[39;00m addr\n\u001b[1;32m    402\u001b[0m \u001b[38;5;66;03m# We should try to automatically find an active local instance.\u001b[39;00m\n\u001b[0;32m--> 403\u001b[0m gcs_addrs \u001b[38;5;241m=\u001b[39m \u001b[43mfind_gcs_addresses\u001b[49m\u001b[43m(\u001b[49m\u001b[43m)\u001b[49m\n\u001b[1;32m    404\u001b[0m bootstrap_addr \u001b[38;5;241m=\u001b[39m find_bootstrap_address(temp_dir)\n\u001b[1;32m    406\u001b[0m \u001b[38;5;28;01mif\u001b[39;00m \u001b[38;5;28mlen\u001b[39m(gcs_addrs) \u001b[38;5;241m>\u001b[39m \u001b[38;5;241m1\u001b[39m \u001b[38;5;129;01mand\u001b[39;00m bootstrap_addr \u001b[38;5;129;01mis\u001b[39;00m \u001b[38;5;129;01mnot\u001b[39;00m \u001b[38;5;28;01mNone\u001b[39;00m:\n",
      "File \u001b[0;32m~/miniconda3/envs/e2er/lib/python3.9/site-packages/ray/_private/services.py:374\u001b[0m, in \u001b[0;36mfind_gcs_addresses\u001b[0;34m()\u001b[0m\n\u001b[1;32m    372\u001b[0m \u001b[38;5;28;01mdef\u001b[39;00m \u001b[38;5;21mfind_gcs_addresses\u001b[39m():\n\u001b[1;32m    373\u001b[0m \u001b[38;5;250m    \u001b[39m\u001b[38;5;124;03m\"\"\"Finds any local GCS processes based on grepping ps.\"\"\"\u001b[39;00m\n\u001b[0;32m--> 374\u001b[0m     \u001b[38;5;28;01mreturn\u001b[39;00m \u001b[43m_find_address_from_flag\u001b[49m\u001b[43m(\u001b[49m\u001b[38;5;124;43m\"\u001b[39;49m\u001b[38;5;124;43m--gcs-address\u001b[39;49m\u001b[38;5;124;43m\"\u001b[39;49m\u001b[43m)\u001b[49m\n",
      "File \u001b[0;32m~/miniconda3/envs/e2er/lib/python3.9/site-packages/ray/_private/services.py:341\u001b[0m, in \u001b[0;36m_find_address_from_flag\u001b[0;34m(flag)\u001b[0m\n\u001b[1;32m    339\u001b[0m \u001b[38;5;28;01mfor\u001b[39;00m pid \u001b[38;5;129;01min\u001b[39;00m pids:\n\u001b[1;32m    340\u001b[0m     \u001b[38;5;28;01mtry\u001b[39;00m:\n\u001b[0;32m--> 341\u001b[0m         proc \u001b[38;5;241m=\u001b[39m \u001b[43mpsutil\u001b[49m\u001b[38;5;241;43m.\u001b[39;49m\u001b[43mProcess\u001b[49m\u001b[43m(\u001b[49m\u001b[43mpid\u001b[49m\u001b[43m)\u001b[49m\n\u001b[1;32m    342\u001b[0m         \u001b[38;5;66;03m# HACK: Workaround for UNIX idiosyncrasy\u001b[39;00m\n\u001b[1;32m    343\u001b[0m         \u001b[38;5;66;03m# Normally, cmdline() is supposed to return the argument list.\u001b[39;00m\n\u001b[1;32m    344\u001b[0m         \u001b[38;5;66;03m# But it in some cases (such as when setproctitle is called),\u001b[39;00m\n\u001b[0;32m   (...)\u001b[0m\n\u001b[1;32m    347\u001b[0m         \u001b[38;5;66;03m# Explanation: https://unix.stackexchange.com/a/432681\u001b[39;00m\n\u001b[1;32m    348\u001b[0m         \u001b[38;5;66;03m# More info: https://github.com/giampaolo/psutil/issues/1179\u001b[39;00m\n\u001b[1;32m    349\u001b[0m         cmdline \u001b[38;5;241m=\u001b[39m proc\u001b[38;5;241m.\u001b[39mcmdline()\n",
      "File \u001b[0;32m~/miniconda3/envs/e2er/lib/python3.9/site-packages/psutil/__init__.py:332\u001b[0m, in \u001b[0;36mProcess.__init__\u001b[0;34m(self, pid)\u001b[0m\n\u001b[1;32m    331\u001b[0m \u001b[38;5;28;01mdef\u001b[39;00m \u001b[38;5;21m__init__\u001b[39m(\u001b[38;5;28mself\u001b[39m, pid\u001b[38;5;241m=\u001b[39m\u001b[38;5;28;01mNone\u001b[39;00m):\n\u001b[0;32m--> 332\u001b[0m     \u001b[38;5;28;43mself\u001b[39;49m\u001b[38;5;241;43m.\u001b[39;49m\u001b[43m_init\u001b[49m\u001b[43m(\u001b[49m\u001b[43mpid\u001b[49m\u001b[43m)\u001b[49m\n",
      "File \u001b[0;32m~/miniconda3/envs/e2er/lib/python3.9/site-packages/psutil/__init__.py:361\u001b[0m, in \u001b[0;36mProcess._init\u001b[0;34m(self, pid, _ignore_nsp)\u001b[0m\n\u001b[1;32m    359\u001b[0m \u001b[38;5;66;03m# cache creation time for later use in is_running() method\u001b[39;00m\n\u001b[1;32m    360\u001b[0m \u001b[38;5;28;01mtry\u001b[39;00m:\n\u001b[0;32m--> 361\u001b[0m     \u001b[38;5;28;43mself\u001b[39;49m\u001b[38;5;241;43m.\u001b[39;49m\u001b[43mcreate_time\u001b[49m\u001b[43m(\u001b[49m\u001b[43m)\u001b[49m\n\u001b[1;32m    362\u001b[0m \u001b[38;5;28;01mexcept\u001b[39;00m AccessDenied:\n\u001b[1;32m    363\u001b[0m     \u001b[38;5;66;03m# We should never get here as AFAIK we're able to get\u001b[39;00m\n\u001b[1;32m    364\u001b[0m     \u001b[38;5;66;03m# process creation time on all platforms even as a\u001b[39;00m\n\u001b[1;32m    365\u001b[0m     \u001b[38;5;66;03m# limited user.\u001b[39;00m\n\u001b[1;32m    366\u001b[0m     \u001b[38;5;28;01mpass\u001b[39;00m\n",
      "File \u001b[0;32m~/miniconda3/envs/e2er/lib/python3.9/site-packages/psutil/__init__.py:717\u001b[0m, in \u001b[0;36mProcess.create_time\u001b[0;34m(self)\u001b[0m\n\u001b[1;32m    712\u001b[0m \u001b[38;5;250m\u001b[39m\u001b[38;5;124;03m\"\"\"The process creation time as a floating point number\u001b[39;00m\n\u001b[1;32m    713\u001b[0m \u001b[38;5;124;03mexpressed in seconds since the epoch.\u001b[39;00m\n\u001b[1;32m    714\u001b[0m \u001b[38;5;124;03mThe return value is cached after first call.\u001b[39;00m\n\u001b[1;32m    715\u001b[0m \u001b[38;5;124;03m\"\"\"\u001b[39;00m\n\u001b[1;32m    716\u001b[0m \u001b[38;5;28;01mif\u001b[39;00m \u001b[38;5;28mself\u001b[39m\u001b[38;5;241m.\u001b[39m_create_time \u001b[38;5;129;01mis\u001b[39;00m \u001b[38;5;28;01mNone\u001b[39;00m:\n\u001b[0;32m--> 717\u001b[0m     \u001b[38;5;28mself\u001b[39m\u001b[38;5;241m.\u001b[39m_create_time \u001b[38;5;241m=\u001b[39m \u001b[38;5;28;43mself\u001b[39;49m\u001b[38;5;241;43m.\u001b[39;49m\u001b[43m_proc\u001b[49m\u001b[38;5;241;43m.\u001b[39;49m\u001b[43mcreate_time\u001b[49m\u001b[43m(\u001b[49m\u001b[43m)\u001b[49m\n\u001b[1;32m    718\u001b[0m \u001b[38;5;28;01mreturn\u001b[39;00m \u001b[38;5;28mself\u001b[39m\u001b[38;5;241m.\u001b[39m_create_time\n",
      "File \u001b[0;32m~/miniconda3/envs/e2er/lib/python3.9/site-packages/psutil/_pslinux.py:1661\u001b[0m, in \u001b[0;36mwrap_exceptions.<locals>.wrapper\u001b[0;34m(self, *args, **kwargs)\u001b[0m\n\u001b[1;32m   1658\u001b[0m \u001b[38;5;129m@functools\u001b[39m\u001b[38;5;241m.\u001b[39mwraps(fun)\n\u001b[1;32m   1659\u001b[0m \u001b[38;5;28;01mdef\u001b[39;00m \u001b[38;5;21mwrapper\u001b[39m(\u001b[38;5;28mself\u001b[39m, \u001b[38;5;241m*\u001b[39margs, \u001b[38;5;241m*\u001b[39m\u001b[38;5;241m*\u001b[39mkwargs):\n\u001b[1;32m   1660\u001b[0m     \u001b[38;5;28;01mtry\u001b[39;00m:\n\u001b[0;32m-> 1661\u001b[0m         \u001b[38;5;28;01mreturn\u001b[39;00m \u001b[43mfun\u001b[49m\u001b[43m(\u001b[49m\u001b[38;5;28;43mself\u001b[39;49m\u001b[43m,\u001b[49m\u001b[43m \u001b[49m\u001b[38;5;241;43m*\u001b[39;49m\u001b[43margs\u001b[49m\u001b[43m,\u001b[49m\u001b[43m \u001b[49m\u001b[38;5;241;43m*\u001b[39;49m\u001b[38;5;241;43m*\u001b[39;49m\u001b[43mkwargs\u001b[49m\u001b[43m)\u001b[49m\n\u001b[1;32m   1662\u001b[0m     \u001b[38;5;28;01mexcept\u001b[39;00m \u001b[38;5;167;01mPermissionError\u001b[39;00m:\n\u001b[1;32m   1663\u001b[0m         \u001b[38;5;28;01mraise\u001b[39;00m AccessDenied(\u001b[38;5;28mself\u001b[39m\u001b[38;5;241m.\u001b[39mpid, \u001b[38;5;28mself\u001b[39m\u001b[38;5;241m.\u001b[39m_name)\n",
      "File \u001b[0;32m~/miniconda3/envs/e2er/lib/python3.9/site-packages/psutil/_pslinux.py:1873\u001b[0m, in \u001b[0;36mProcess.create_time\u001b[0;34m(self)\u001b[0m\n\u001b[1;32m   1871\u001b[0m \u001b[38;5;129m@wrap_exceptions\u001b[39m\n\u001b[1;32m   1872\u001b[0m \u001b[38;5;28;01mdef\u001b[39;00m \u001b[38;5;21mcreate_time\u001b[39m(\u001b[38;5;28mself\u001b[39m):\n\u001b[0;32m-> 1873\u001b[0m     ctime \u001b[38;5;241m=\u001b[39m \u001b[38;5;28mfloat\u001b[39m(\u001b[38;5;28;43mself\u001b[39;49m\u001b[38;5;241;43m.\u001b[39;49m\u001b[43m_parse_stat_file\u001b[49m\u001b[43m(\u001b[49m\u001b[43m)\u001b[49m[\u001b[38;5;124m'\u001b[39m\u001b[38;5;124mcreate_time\u001b[39m\u001b[38;5;124m'\u001b[39m])\n\u001b[1;32m   1874\u001b[0m     \u001b[38;5;66;03m# According to documentation, starttime is in field 21 and the\u001b[39;00m\n\u001b[1;32m   1875\u001b[0m     \u001b[38;5;66;03m# unit is jiffies (clock ticks).\u001b[39;00m\n\u001b[1;32m   1876\u001b[0m     \u001b[38;5;66;03m# We first divide it for clock ticks and then add uptime returning\u001b[39;00m\n\u001b[1;32m   1877\u001b[0m     \u001b[38;5;66;03m# seconds since the epoch.\u001b[39;00m\n\u001b[1;32m   1878\u001b[0m     \u001b[38;5;66;03m# Also use cached value if available.\u001b[39;00m\n\u001b[1;32m   1879\u001b[0m     bt \u001b[38;5;241m=\u001b[39m BOOT_TIME \u001b[38;5;129;01mor\u001b[39;00m boot_time()\n",
      "File \u001b[0;32m~/miniconda3/envs/e2er/lib/python3.9/site-packages/psutil/_pslinux.py:1661\u001b[0m, in \u001b[0;36mwrap_exceptions.<locals>.wrapper\u001b[0;34m(self, *args, **kwargs)\u001b[0m\n\u001b[1;32m   1658\u001b[0m \u001b[38;5;129m@functools\u001b[39m\u001b[38;5;241m.\u001b[39mwraps(fun)\n\u001b[1;32m   1659\u001b[0m \u001b[38;5;28;01mdef\u001b[39;00m \u001b[38;5;21mwrapper\u001b[39m(\u001b[38;5;28mself\u001b[39m, \u001b[38;5;241m*\u001b[39margs, \u001b[38;5;241m*\u001b[39m\u001b[38;5;241m*\u001b[39mkwargs):\n\u001b[1;32m   1660\u001b[0m     \u001b[38;5;28;01mtry\u001b[39;00m:\n\u001b[0;32m-> 1661\u001b[0m         \u001b[38;5;28;01mreturn\u001b[39;00m \u001b[43mfun\u001b[49m\u001b[43m(\u001b[49m\u001b[38;5;28;43mself\u001b[39;49m\u001b[43m,\u001b[49m\u001b[43m \u001b[49m\u001b[38;5;241;43m*\u001b[39;49m\u001b[43margs\u001b[49m\u001b[43m,\u001b[49m\u001b[43m \u001b[49m\u001b[38;5;241;43m*\u001b[39;49m\u001b[38;5;241;43m*\u001b[39;49m\u001b[43mkwargs\u001b[49m\u001b[43m)\u001b[49m\n\u001b[1;32m   1662\u001b[0m     \u001b[38;5;28;01mexcept\u001b[39;00m \u001b[38;5;167;01mPermissionError\u001b[39;00m:\n\u001b[1;32m   1663\u001b[0m         \u001b[38;5;28;01mraise\u001b[39;00m AccessDenied(\u001b[38;5;28mself\u001b[39m\u001b[38;5;241m.\u001b[39mpid, \u001b[38;5;28mself\u001b[39m\u001b[38;5;241m.\u001b[39m_name)\n",
      "File \u001b[0;32m~/miniconda3/envs/e2er/lib/python3.9/site-packages/psutil/_common.py:444\u001b[0m, in \u001b[0;36mmemoize_when_activated.<locals>.wrapper\u001b[0;34m(self)\u001b[0m\n\u001b[1;32m    441\u001b[0m     ret \u001b[38;5;241m=\u001b[39m \u001b[38;5;28mself\u001b[39m\u001b[38;5;241m.\u001b[39m_cache[fun]\n\u001b[1;32m    442\u001b[0m \u001b[38;5;28;01mexcept\u001b[39;00m \u001b[38;5;167;01mAttributeError\u001b[39;00m:\n\u001b[1;32m    443\u001b[0m     \u001b[38;5;66;03m# case 2: we never entered oneshot() ctx\u001b[39;00m\n\u001b[0;32m--> 444\u001b[0m     \u001b[38;5;28;01mreturn\u001b[39;00m \u001b[43mfun\u001b[49m\u001b[43m(\u001b[49m\u001b[38;5;28;43mself\u001b[39;49m\u001b[43m)\u001b[49m\n\u001b[1;32m    445\u001b[0m \u001b[38;5;28;01mexcept\u001b[39;00m \u001b[38;5;167;01mKeyError\u001b[39;00m:\n\u001b[1;32m    446\u001b[0m     \u001b[38;5;66;03m# case 3: we entered oneshot() ctx but there's no cache\u001b[39;00m\n\u001b[1;32m    447\u001b[0m     \u001b[38;5;66;03m# for this entry yet\u001b[39;00m\n\u001b[1;32m    448\u001b[0m     ret \u001b[38;5;241m=\u001b[39m fun(\u001b[38;5;28mself\u001b[39m)\n",
      "File \u001b[0;32m~/miniconda3/envs/e2er/lib/python3.9/site-packages/psutil/_pslinux.py:1703\u001b[0m, in \u001b[0;36mProcess._parse_stat_file\u001b[0;34m(self)\u001b[0m\n\u001b[1;32m   1692\u001b[0m \u001b[38;5;129m@wrap_exceptions\u001b[39m\n\u001b[1;32m   1693\u001b[0m \u001b[38;5;129m@memoize_when_activated\u001b[39m\n\u001b[1;32m   1694\u001b[0m \u001b[38;5;28;01mdef\u001b[39;00m \u001b[38;5;21m_parse_stat_file\u001b[39m(\u001b[38;5;28mself\u001b[39m):\n\u001b[1;32m   1695\u001b[0m \u001b[38;5;250m    \u001b[39m\u001b[38;5;124;03m\"\"\"Parse /proc/{pid}/stat file and return a dict with various\u001b[39;00m\n\u001b[1;32m   1696\u001b[0m \u001b[38;5;124;03m    process info.\u001b[39;00m\n\u001b[1;32m   1697\u001b[0m \u001b[38;5;124;03m    Using \"man proc\" as a reference: where \"man proc\" refers to\u001b[39;00m\n\u001b[0;32m   (...)\u001b[0m\n\u001b[1;32m   1701\u001b[0m \u001b[38;5;124;03m    in use.\u001b[39;00m\n\u001b[1;32m   1702\u001b[0m \u001b[38;5;124;03m    \"\"\"\u001b[39;00m\n\u001b[0;32m-> 1703\u001b[0m     \u001b[38;5;28;01mwith\u001b[39;00m \u001b[43mopen_binary\u001b[49m\u001b[43m(\u001b[49m\u001b[38;5;124;43m\"\u001b[39;49m\u001b[38;5;132;43;01m%s\u001b[39;49;00m\u001b[38;5;124;43m/\u001b[39;49m\u001b[38;5;132;43;01m%s\u001b[39;49;00m\u001b[38;5;124;43m/stat\u001b[39;49m\u001b[38;5;124;43m\"\u001b[39;49m\u001b[43m \u001b[49m\u001b[38;5;241;43m%\u001b[39;49m\u001b[43m \u001b[49m\u001b[43m(\u001b[49m\u001b[38;5;28;43mself\u001b[39;49m\u001b[38;5;241;43m.\u001b[39;49m\u001b[43m_procfs_path\u001b[49m\u001b[43m,\u001b[49m\u001b[43m \u001b[49m\u001b[38;5;28;43mself\u001b[39;49m\u001b[38;5;241;43m.\u001b[39;49m\u001b[43mpid\u001b[49m\u001b[43m)\u001b[49m\u001b[43m)\u001b[49m \u001b[38;5;28;01mas\u001b[39;00m f:\n\u001b[1;32m   1704\u001b[0m         data \u001b[38;5;241m=\u001b[39m f\u001b[38;5;241m.\u001b[39mread()\n\u001b[1;32m   1705\u001b[0m     \u001b[38;5;66;03m# Process name is between parentheses. It can contain spaces and\u001b[39;00m\n\u001b[1;32m   1706\u001b[0m     \u001b[38;5;66;03m# other parentheses. This is taken into account by looking for\u001b[39;00m\n\u001b[1;32m   1707\u001b[0m     \u001b[38;5;66;03m# the first occurrence of \"(\" and the last occurence of \")\".\u001b[39;00m\n",
      "File \u001b[0;32m~/miniconda3/envs/e2er/lib/python3.9/site-packages/psutil/_common.py:711\u001b[0m, in \u001b[0;36mopen_binary\u001b[0;34m(fname, **kwargs)\u001b[0m\n\u001b[1;32m    710\u001b[0m \u001b[38;5;28;01mdef\u001b[39;00m \u001b[38;5;21mopen_binary\u001b[39m(fname, \u001b[38;5;241m*\u001b[39m\u001b[38;5;241m*\u001b[39mkwargs):\n\u001b[0;32m--> 711\u001b[0m     \u001b[38;5;28;01mreturn\u001b[39;00m \u001b[38;5;28;43mopen\u001b[39;49m\u001b[43m(\u001b[49m\u001b[43mfname\u001b[49m\u001b[43m,\u001b[49m\u001b[43m \u001b[49m\u001b[38;5;124;43m\"\u001b[39;49m\u001b[38;5;124;43mrb\u001b[39;49m\u001b[38;5;124;43m\"\u001b[39;49m\u001b[43m,\u001b[49m\u001b[43m \u001b[49m\u001b[38;5;241;43m*\u001b[39;49m\u001b[38;5;241;43m*\u001b[39;49m\u001b[43mkwargs\u001b[49m\u001b[43m)\u001b[49m\n",
      "\u001b[0;31mFileNotFoundError\u001b[0m: [Errno 2] No such file or directory: '/proc/4092506/stat'"
     ]
    }
   ],
   "source": [
    "inputs = [params.copy() for i in range(1)]\n",
    "\n",
    "@ray.remote\n",
    "def send_query(params):\n",
    "    response = requests.post(\"http://14.162.145.55:9999/scoring\", json=params)\n",
    "    return response\n",
    "\n",
    "outputs = ray.get([send_query.remote(params) for params in inputs])"
   ]
  },
  {
   "cell_type": "code",
   "execution_count": null,
   "metadata": {},
   "outputs": [],
   "source": [
    "outputs[0].json()"
   ]
  },
  {
   "cell_type": "code",
   "execution_count": null,
   "metadata": {},
   "outputs": [],
   "source": [
    "import json\n",
    "\n",
    "json_path = [\n",
    "    \"/data/codes/sb-apa/train/data/scoring/apa-type-9/train.json\",\n",
    "    \"/data/codes/sb-apa/train/data/scoring/apa-type-10/train.json\",\n",
    "    \"/data/codes/sb-apa/train/data/scoring/apa-type-12/train.json\"\n",
    "]\n",
    "\n",
    "data = {}\n",
    "for path in json_path:\n",
    "    _data = json.load(open(path, \"r\"))\n",
    "    for key, value in _data.items():\n",
    "        assert key not in data\n",
    "        \n",
    "    data.update(_data)\n",
    "print(len(data))"
   ]
  },
  {
   "cell_type": "code",
   "execution_count": null,
   "metadata": {},
   "outputs": [],
   "source": [
    "from sklearn.model_selection import train_test_split\n",
    "\n",
    "keys = list(data.keys())"
   ]
  },
  {
   "cell_type": "code",
   "execution_count": null,
   "metadata": {},
   "outputs": [],
   "source": [
    "train_keys, val_keys = train_test_split(keys, test_size=0.05, random_state=42)\n",
    "\n",
    "train_set = {key:data[key] for key in train_keys}\n",
    "val_set = {key:data[key] for key in val_keys}"
   ]
  },
  {
   "cell_type": "code",
   "execution_count": null,
   "metadata": {},
   "outputs": [],
   "source": [
    "len(val_set)"
   ]
  },
  {
   "cell_type": "code",
   "execution_count": null,
   "metadata": {},
   "outputs": [],
   "source": [
    "data_dir = \"/data/codes/sb-apa/train/data/scoring\"\n",
    "\n",
    "with open(f'{data_dir}/train.json', 'w', encoding='utf-8') as f:\n",
    "    json_obj = json.dumps(train_set, indent=4, ensure_ascii=False)\n",
    "    f.write(json_obj)\n",
    "    \n",
    "with open(f'{data_dir}/val.json', 'w', encoding='utf-8') as f:\n",
    "    json_obj = json.dumps(val_set, indent=4, ensure_ascii=False)\n",
    "    f.write(json_obj)"
   ]
  }
 ],
 "metadata": {
  "kernelspec": {
   "display_name": "ps",
   "language": "python",
   "name": "python3"
  },
  "language_info": {
   "codemirror_mode": {
    "name": "ipython",
    "version": 3
   },
   "file_extension": ".py",
   "mimetype": "text/x-python",
   "name": "python",
   "nbconvert_exporter": "python",
   "pygments_lexer": "ipython3",
   "version": "3.9.18"
  }
 },
 "nbformat": 4,
 "nbformat_minor": 2
}
